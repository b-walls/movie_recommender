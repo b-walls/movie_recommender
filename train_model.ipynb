{
 "cells": [
  {
   "cell_type": "code",
   "execution_count": 1,
   "metadata": {},
   "outputs": [],
   "source": [
    "import pandas as pd\n",
    "import numpy as np\n",
    "import matplotlib as np\n"
   ]
  },
  {
   "cell_type": "code",
   "execution_count": 19,
   "metadata": {},
   "outputs": [
    {
     "ename": "UnpicklingError",
     "evalue": "invalid load key, ','.",
     "output_type": "error",
     "traceback": [
      "\u001b[1;31m---------------------------------------------------------------------------\u001b[0m",
      "\u001b[1;31mUnpicklingError\u001b[0m                           Traceback (most recent call last)",
      "Cell \u001b[1;32mIn[19], line 1\u001b[0m\n\u001b[1;32m----> 1\u001b[0m df \u001b[38;5;241m=\u001b[39m pd\u001b[38;5;241m.\u001b[39mread_pickle(\u001b[38;5;124m'\u001b[39m\u001b[38;5;124m./data/processed_data_v1.csv\u001b[39m\u001b[38;5;124m'\u001b[39m)\n\u001b[0;32m      2\u001b[0m df \u001b[38;5;241m=\u001b[39m df\u001b[38;5;241m.\u001b[39mdrop(columns\u001b[38;5;241m=\u001b[39m\u001b[38;5;124m'\u001b[39m\u001b[38;5;124mUnnamed: 0\u001b[39m\u001b[38;5;124m'\u001b[39m)\n\u001b[0;32m      3\u001b[0m df\u001b[38;5;241m.\u001b[39mhead()\n",
      "File \u001b[1;32mc:\\Users\\Brendan\\anaconda3\\Lib\\site-packages\\pandas\\io\\pickle.py:206\u001b[0m, in \u001b[0;36mread_pickle\u001b[1;34m(filepath_or_buffer, compression, storage_options)\u001b[0m\n\u001b[0;32m    203\u001b[0m     \u001b[38;5;28;01mwith\u001b[39;00m warnings\u001b[38;5;241m.\u001b[39mcatch_warnings(record\u001b[38;5;241m=\u001b[39m\u001b[38;5;28;01mTrue\u001b[39;00m):\n\u001b[0;32m    204\u001b[0m         \u001b[38;5;66;03m# We want to silence any warnings about, e.g. moved modules.\u001b[39;00m\n\u001b[0;32m    205\u001b[0m         warnings\u001b[38;5;241m.\u001b[39msimplefilter(\u001b[38;5;124m\"\u001b[39m\u001b[38;5;124mignore\u001b[39m\u001b[38;5;124m\"\u001b[39m, \u001b[38;5;167;01mWarning\u001b[39;00m)\n\u001b[1;32m--> 206\u001b[0m         \u001b[38;5;28;01mreturn\u001b[39;00m pickle\u001b[38;5;241m.\u001b[39mload(handles\u001b[38;5;241m.\u001b[39mhandle)\n\u001b[0;32m    207\u001b[0m \u001b[38;5;28;01mexcept\u001b[39;00m excs_to_catch:\n\u001b[0;32m    208\u001b[0m     \u001b[38;5;66;03m# e.g.\u001b[39;00m\n\u001b[0;32m    209\u001b[0m     \u001b[38;5;66;03m#  \"No module named 'pandas.core.sparse.series'\"\u001b[39;00m\n\u001b[0;32m    210\u001b[0m     \u001b[38;5;66;03m#  \"Can't get attribute '__nat_unpickle' on <module 'pandas._libs.tslib\"\u001b[39;00m\n\u001b[0;32m    211\u001b[0m     \u001b[38;5;28;01mreturn\u001b[39;00m pc\u001b[38;5;241m.\u001b[39mload(handles\u001b[38;5;241m.\u001b[39mhandle, encoding\u001b[38;5;241m=\u001b[39m\u001b[38;5;28;01mNone\u001b[39;00m)\n",
      "\u001b[1;31mUnpicklingError\u001b[0m: invalid load key, ','."
     ]
    }
   ],
   "source": [
    "df = pd.read_pickle('./data/processed_data_v1.csv')\n",
    "df = df.drop(columns='Unnamed: 0')\n",
    "df.head()"
   ]
  },
  {
   "cell_type": "code",
   "execution_count": 18,
   "metadata": {},
   "outputs": [
    {
     "data": {
      "text/plain": [
       "'[ 0.08778477 -0.59489363  0.36260477  0.8192935  -0.3515774  -0.07925841\\n  0.437438   -0.09110508]'"
      ]
     },
     "execution_count": 18,
     "metadata": {},
     "output_type": "execute_result"
    }
   ],
   "source": [
    "df.iloc[0]['genre_embedding']"
   ]
  },
  {
   "cell_type": "code",
   "execution_count": 21,
   "metadata": {},
   "outputs": [
    {
     "name": "stdout",
     "output_type": "stream",
     "text": [
      "          id                   title  weighted_rating  \\\n",
      "0      27205               Inception         8.343670   \n",
      "1     157336            Interstellar         8.394802   \n",
      "2        155         The Dark Knight         8.487107   \n",
      "3      19995                  Avatar         7.560630   \n",
      "4      24428            The Avengers         7.695393   \n",
      "...      ...                     ...              ...   \n",
      "7020  309299            Experimenter         6.622966   \n",
      "7021   51588                    Prom         6.399861   \n",
      "7022   15143  Some Kind of Wonderful         6.775038   \n",
      "7023    3009               The Trial         7.071677   \n",
      "7024  589739               Hair Love         7.180729   \n",
      "\n",
      "                                        genre_embedding  \\\n",
      "0     [0.087784775, -0.59489363, 0.36260477, 0.81929...   \n",
      "1     [0.061338063, -0.58916956, 0.4043975, 0.840551...   \n",
      "2     [0.08840194, -0.51898986, 0.3370414, 0.8185041...   \n",
      "3     [0.06259677, -0.6202787, 0.3927696, 0.80606633...   \n",
      "4     [0.087784775, -0.59489363, 0.36260477, 0.81929...   \n",
      "...                                                 ...   \n",
      "7020  [0.076184526, -0.53143907, 0.4030611, 0.801049...   \n",
      "7021  [-0.085725464, -0.5925683, 0.43343562, 0.76670...   \n",
      "7022  [-0.040273145, -0.52233815, 0.37336364, 0.8228...   \n",
      "7023  [0.051007856, -0.41431406, 0.33604658, 0.79160...   \n",
      "7024  [-0.058273178, -0.6517096, 0.5077788, 0.836246...   \n",
      "\n",
      "                                     keywords_embedding      year  \n",
      "0     [-0.40175968, -0.53906643, 0.32337314, 0.28863...  0.896825  \n",
      "1     [-0.12954843, -0.4967458, 0.21164055, 0.244403...  0.928571  \n",
      "2     [-0.08771628, -0.615035, 0.27744502, 0.4346672...  0.880952  \n",
      "3     [-0.08496704, -0.5658129, 0.22957993, 0.266419...  0.888889  \n",
      "4     [0.053917237, -0.7055093, 0.29352066, 0.633865...  0.912698  \n",
      "...                                                 ...       ...  \n",
      "7020  [-0.18631996, -0.64027405, 0.30760476, 0.29947...  0.936508  \n",
      "7021  [-0.3089302, -0.3868373, 0.23170543, 0.2835230...  0.904762  \n",
      "7022  [-0.0046178815, -0.5309157, 0.22435288, 0.1990...  0.714286  \n",
      "7023  [-0.12177509, -0.3477075, 0.1564799, 0.1549182...  0.515873  \n",
      "7024  [0.031529836, -0.7095892, 0.28432947, 0.366644...  0.968254  \n",
      "\n",
      "[7025 rows x 6 columns]\n"
     ]
    }
   ],
   "source": [
    "import pickle\n",
    "\n",
    "file_path = './data/processed_data_v1.pkl'\n",
    "\n",
    "# Load the pickle file with latin1 encoding\n",
    "with open(file_path, 'rb') as file:\n",
    "    data = pickle.load(file, encoding='latin1')\n",
    "\n",
    "print(data)"
   ]
  },
  {
   "cell_type": "code",
   "execution_count": null,
   "metadata": {},
   "outputs": [],
   "source": []
  }
 ],
 "metadata": {
  "kernelspec": {
   "display_name": "base",
   "language": "python",
   "name": "python3"
  },
  "language_info": {
   "codemirror_mode": {
    "name": "ipython",
    "version": 3
   },
   "file_extension": ".py",
   "mimetype": "text/x-python",
   "name": "python",
   "nbconvert_exporter": "python",
   "pygments_lexer": "ipython3",
   "version": "3.11.7"
  }
 },
 "nbformat": 4,
 "nbformat_minor": 2
}
